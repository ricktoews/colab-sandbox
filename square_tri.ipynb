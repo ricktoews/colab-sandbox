{
  "nbformat": 4,
  "nbformat_minor": 0,
  "metadata": {
    "colab": {
      "provenance": [],
      "authorship_tag": "ABX9TyP9w0FugxH1eePiKsOeim9f",
      "include_colab_link": true
    },
    "kernelspec": {
      "name": "python3",
      "display_name": "Python 3"
    },
    "language_info": {
      "name": "python"
    }
  },
  "cells": [
    {
      "cell_type": "markdown",
      "metadata": {
        "id": "view-in-github",
        "colab_type": "text"
      },
      "source": [
        "<a href=\"https://colab.research.google.com/github/ricktoews/colab-sandbox/blob/master/square_tri.ipynb\" target=\"_parent\"><img src=\"https://colab.research.google.com/assets/colab-badge.svg\" alt=\"Open In Colab\"/></a>"
      ]
    },
    {
      "cell_type": "code",
      "execution_count": 11,
      "metadata": {
        "colab": {
          "base_uri": "https://localhost:8080/"
        },
        "id": "w9Sdw4C1hSla",
        "outputId": "643c1d0e-7f68-4fe1-f17b-58d89eb7892c"
      },
      "outputs": [
        {
          "output_type": "stream",
          "name": "stdout",
          "text": [
            "       n  Triangular(n)  Square Root of Triangular(n)\n",
            "--------  -------------  ----------------------------\n",
            "       1              1                             1\n",
            "       8             36                             6\n",
            "      49           1225                            35\n",
            "     288          41616                           204\n",
            "    1681        1413721                          1189\n",
            "    9800       48024900                          6930\n",
            "   57121     1631432881                         40391\n",
            "  332928    55420693056                        235416\n",
            " 1940449  1882672131025                       1372105\n"
          ]
        }
      ],
      "source": [
        "import math\n",
        "\n",
        "def is_triangular_and_square(n):\n",
        "    sqrt_n = math.isqrt(n)\n",
        "    return sqrt_n * sqrt_n == n\n",
        "\n",
        "def print_results():\n",
        "    print(\"       n  Triangular(n)  Square Root of Triangular(n)\")\n",
        "    print(\"--------  -------------  ----------------------------\")\n",
        "\n",
        "    n = 1\n",
        "    count = 0\n",
        "\n",
        "    while count < 9:\n",
        "        t = n * (n + 1) // 2\n",
        "\n",
        "        if is_triangular_and_square(t):\n",
        "            sqrt_t = math.isqrt(t)\n",
        "\n",
        "            print(f\"{n:8d} {t:14d} {sqrt_t:29d}\")\n",
        "\n",
        "            count += 1\n",
        "\n",
        "        n += 1\n",
        "\n",
        "print_results()\n"
      ]
    }
  ]
}