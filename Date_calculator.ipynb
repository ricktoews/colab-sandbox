{
  "nbformat": 4,
  "nbformat_minor": 0,
  "metadata": {
    "colab": {
      "provenance": [],
      "authorship_tag": "ABX9TyPgPv99hHR9I9BhCH9NsKWQ",
      "include_colab_link": true
    },
    "kernelspec": {
      "name": "python3",
      "display_name": "Python 3"
    },
    "language_info": {
      "name": "python"
    }
  },
  "cells": [
    {
      "cell_type": "markdown",
      "metadata": {
        "id": "view-in-github",
        "colab_type": "text"
      },
      "source": [
        "<a href=\"https://colab.research.google.com/github/ricktoews/colab-sandbox/blob/master/Date_calculator.ipynb\" target=\"_parent\"><img src=\"https://colab.research.google.com/assets/colab-badge.svg\" alt=\"Open In Colab\"/></a>"
      ]
    },
    {
      "cell_type": "markdown",
      "source": [
        "Here's how you find the day of the week for a given date in the 20th century.\n",
        "\n",
        "Let's use February 4, 1965 as an example.\n",
        "\n",
        "First, we should initialize a month offset template."
      ],
      "metadata": {
        "id": "rOOajiqHQkZ2"
      }
    },
    {
      "cell_type": "code",
      "source": [
        "def add_mod_7(total):\n",
        "  return total % 7"
      ],
      "metadata": {
        "id": "ZLdYXvGxa00M"
      },
      "execution_count": 87,
      "outputs": []
    },
    {
      "cell_type": "code",
      "source": [
        "weekday_names = [\"\",\"Sunday\", \"Monday\", \"Tuesday\", \"Wednesday\", \"Thursday\", \"Friday\", \"Saturday\"]\n",
        "month_offsets = { \n",
        "    \"January\": 0, \"February\": 3, \"March\":     3,\n",
        "    \"April\":   6, \"May\":      1, \"June\":      4,\n",
        "    \"July\":    6, \"August\":   2, \"September\": 5,\n",
        "    \"October\": 0, \"November\": 3, \"December\":  5,\n",
        "}\n",
        "target_year = 1900\n",
        "target_month = \"January\"\n",
        "target_date = 1"
      ],
      "metadata": {
        "id": "S4jSxobPQ6Zz"
      },
      "execution_count": 88,
      "outputs": []
    },
    {
      "cell_type": "markdown",
      "source": [
        "First, subtract 1900 from the year:"
      ],
      "metadata": {
        "id": "2dGlRV3VRAQZ"
      }
    },
    {
      "cell_type": "code",
      "source": [
        "offset = target_year - 1900\n",
        "offset"
      ],
      "metadata": {
        "colab": {
          "base_uri": "https://localhost:8080/"
        },
        "id": "sVOyOnJvRD5t",
        "outputId": "91bbcadf-eab5-4771-ad9a-0438ab8efe7d"
      },
      "execution_count": 89,
      "outputs": [
        {
          "output_type": "execute_result",
          "data": {
            "text/plain": [
              "0"
            ]
          },
          "metadata": {},
          "execution_count": 89
        }
      ]
    },
    {
      "cell_type": "markdown",
      "source": [
        "Next, take the integer portion of `offset` divided by 4. This is the number of leap days from 1900 to the beginning of your target year. (Note: If your target year a leap year, you should subtract 1 from leap_days."
      ],
      "metadata": {
        "id": "kfosk1ISRLxm"
      }
    },
    {
      "cell_type": "code",
      "source": [
        "leap_days = (offset // 4) - 1 if offset % 4 == 0 and offset % 100 != 0 else offset // 4\n",
        "leap_days"
      ],
      "metadata": {
        "colab": {
          "base_uri": "https://localhost:8080/"
        },
        "id": "RfdcVOuTRVt7",
        "outputId": "26af3e06-99e9-4f4f-ab37-df67434aa1d1"
      },
      "execution_count": 90,
      "outputs": [
        {
          "output_type": "execute_result",
          "data": {
            "text/plain": [
              "0"
            ]
          },
          "metadata": {},
          "execution_count": 90
        }
      ]
    },
    {
      "cell_type": "markdown",
      "source": [
        "Add leap_days to offset:"
      ],
      "metadata": {
        "id": "uey_AMhIRuUR"
      }
    },
    {
      "cell_type": "code",
      "source": [
        "offset = offset + leap_days\n",
        "offset"
      ],
      "metadata": {
        "colab": {
          "base_uri": "https://localhost:8080/"
        },
        "id": "QufxvuVTRzdK",
        "outputId": "0c135d07-f667-468f-d38d-09b2a1abce77"
      },
      "execution_count": 91,
      "outputs": [
        {
          "output_type": "execute_result",
          "data": {
            "text/plain": [
              "0"
            ]
          },
          "metadata": {},
          "execution_count": 91
        }
      ]
    },
    {
      "cell_type": "markdown",
      "source": [
        "Divide offset by 7, and keep the remainder:"
      ],
      "metadata": {
        "id": "zo-cLnzGR3SN"
      }
    },
    {
      "cell_type": "code",
      "source": [
        "offset = offset - (offset // 7 * 7)\n",
        "offset"
      ],
      "metadata": {
        "colab": {
          "base_uri": "https://localhost:8080/"
        },
        "id": "A-8Xn8JBR7qK",
        "outputId": "ba8338e2-cbe6-45b1-a532-adb2f11abc4e"
      },
      "execution_count": 92,
      "outputs": [
        {
          "output_type": "execute_result",
          "data": {
            "text/plain": [
              "0"
            ]
          },
          "metadata": {},
          "execution_count": 92
        }
      ]
    },
    {
      "cell_type": "markdown",
      "source": [
        "Add this to 1. This is the offset for the target year."
      ],
      "metadata": {
        "id": "DOox7gJ1SHi1"
      }
    },
    {
      "cell_type": "code",
      "source": [
        "target_year_offset = 1 + offset\n",
        "target_year_offset"
      ],
      "metadata": {
        "colab": {
          "base_uri": "https://localhost:8080/"
        },
        "id": "G3indbBCSJxR",
        "outputId": "13aec3e0-1cad-4ee0-b0d0-21b9347f8240"
      },
      "execution_count": 93,
      "outputs": [
        {
          "output_type": "execute_result",
          "data": {
            "text/plain": [
              "1"
            ]
          },
          "metadata": {},
          "execution_count": 93
        }
      ]
    },
    {
      "cell_type": "markdown",
      "source": [
        "The next thing is to add the year offset to the month offset:"
      ],
      "metadata": {
        "id": "arDNDKNgaOda"
      }
    },
    {
      "cell_type": "code",
      "source": [
        "month_offset = target_year_offset + month_offsets[target_month]\n",
        "date_offset = add_mod_7(month_offset + target_date)\n",
        "\n",
        "print(weekday_names[date_offset])"
      ],
      "metadata": {
        "colab": {
          "base_uri": "https://localhost:8080/"
        },
        "id": "9W5K_RtkaZ8a",
        "outputId": "820af45e-e43a-4d6a-a391-cf41629a989b"
      },
      "execution_count": 94,
      "outputs": [
        {
          "output_type": "stream",
          "name": "stdout",
          "text": [
            "Monday\n"
          ]
        }
      ]
    }
  ]
}