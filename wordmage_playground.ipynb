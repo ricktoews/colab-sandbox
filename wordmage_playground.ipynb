{
  "nbformat": 4,
  "nbformat_minor": 0,
  "metadata": {
    "colab": {
      "provenance": [],
      "authorship_tag": "ABX9TyNwqh5DE048bDp2PQiZQnSR",
      "include_colab_link": true
    },
    "kernelspec": {
      "name": "python3",
      "display_name": "Python 3"
    },
    "language_info": {
      "name": "python"
    }
  },
  "cells": [
    {
      "cell_type": "markdown",
      "metadata": {
        "id": "view-in-github",
        "colab_type": "text"
      },
      "source": [
        "<a href=\"https://colab.research.google.com/github/ricktoews/colab-sandbox/blob/master/wordmage_playground.ipynb\" target=\"_parent\"><img src=\"https://colab.research.google.com/assets/colab-badge.svg\" alt=\"Open In Colab\"/></a>"
      ]
    },
    {
      "cell_type": "code",
      "source": [
        "!pip install python-dotenv\n",
        "!pip install openai"
      ],
      "metadata": {
        "id": "EwdF3pPGF8Ow"
      },
      "execution_count": null,
      "outputs": []
    },
    {
      "cell_type": "code",
      "execution_count": 6,
      "metadata": {
        "colab": {
          "base_uri": "https://localhost:8080/"
        },
        "id": "iIUg796wG4Ap",
        "outputId": "18f68336-0c59-4477-d75a-b2b7d5ed9e54"
      },
      "outputs": [
        {
          "output_type": "stream",
          "name": "stdout",
          "text": [
            "sudd\n",
            "Prompt: Use the word sudd in a sentence.\n",
            "Example: {\n",
            "  \"role\": \"assistant\",\n",
            "  \"content\": \"I'm sorry, but the word \\\"sudd\\\" does not exist in English. Please provide another word to use in a sentence.\"\n",
            "}\n",
            "==============================================\n",
            "peccable\n",
            "Prompt: Use the word peccable in a sentence.\n",
            "Example: {\n",
            "  \"role\": \"assistant\",\n",
            "  \"content\": \"As an AI language model, I am not capable of committing any peccable action.\"\n",
            "}\n",
            "==============================================\n",
            "wasserman\n",
            "Prompt: Use the word wasserman in a sentence.\n",
            "Example: {\n",
            "  \"role\": \"assistant\",\n",
            "  \"content\": \"I'm sorry, as an AI language model, I do not have any background knowledge about any specific person or context named \\\"Wasserman\\\". Please provide more context or information so that I can assist you better.\"\n",
            "}\n",
            "==============================================\n",
            "jennet\n",
            "Prompt: Use the word jennet in a sentence.\n",
            "Example: {\n",
            "  \"role\": \"assistant\",\n",
            "  \"content\": \"The jennet, a small Spanish horse breed, is known for its sure-footedness and agility.\"\n",
            "}\n",
            "==============================================\n",
            "esemplastic\n",
            "Prompt: Use the word esemplastic in a sentence.\n",
            "Example: {\n",
            "  \"role\": \"assistant\",\n",
            "  \"content\": \"As an esemplastic artist, she was able to take unrelated materials and transform them into a cohesive work of art.\"\n",
            "}\n",
            "==============================================\n"
          ]
        }
      ],
      "source": [
        "import os\n",
        "from dotenv import load_dotenv\n",
        "import requests\n",
        "import random\n",
        "import openai\n",
        "\n",
        "load_dotenv()\n",
        "\n",
        "openai.api_key = os.getenv(\"OPENAI_API_KEY\")\n",
        "\n",
        "# Send a GET request to retrieve the JSON data\n",
        "url = \"https://wordmage.toews-api.com/\"\n",
        "response = requests.get(url)\n",
        "data = response.json()\n",
        "\n",
        "def use_in_sentence(word):\n",
        "  content = \"Use the word {} in a sentence.\".format(word)\n",
        "  print(\"Prompt: {}\".format(content))\n",
        "  completion = openai.ChatCompletion.create(\n",
        "    model=\"gpt-3.5-turbo\",\n",
        "    messages=[\n",
        "      {\"role\": \"user\", \"content\": content}\n",
        "    ]\n",
        "  )\n",
        "  return completion.choices[0].message\n",
        "\n",
        "# Check if the response was successful\n",
        "if response.status_code == 200:\n",
        "    # Retrieve the array of objects from the JSON data\n",
        "    objects = data\n",
        "\n",
        "    # Choose 50 random objects\n",
        "    random_objects = random.sample(objects, 5)\n",
        "\n",
        "    # Display the 'word' property from each object\n",
        "    for obj in random_objects:\n",
        "        word = obj.get('word')\n",
        "        print(word)\n",
        "        example = use_in_sentence(word)\n",
        "        print(\"Example: {}\".format(example))\n",
        "        print(\"==============================================\")\n",
        "else:\n",
        "    print(\"Failed to retrieve data. Status code:\", response.status_code)\n"
      ]
    }
  ]
}